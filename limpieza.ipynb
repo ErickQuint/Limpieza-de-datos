{
 "cells": [
  {
   "cell_type": "markdown",
   "metadata": {},
   "source": [
    "# Lecturas de los archivos CSV "
   ]
  },
  {
   "cell_type": "code",
   "execution_count": null,
   "metadata": {
    "collapsed": true
   },
   "outputs": [],
   "source": [
    "import pandas as pd\n",
    "\n",
    "t1_2011 = pd.read_csv('sdemt111.csv', low_memory=True, encoding='latin')\n",
    "t2_2011 = pd.read_csv('sdemt211.csv', low_memory=True, encoding='latin')\n",
    "t3_2011 = pd.read_csv('sdemt311.csv', low_memory=True, encoding='latin')\n",
    "t4_2011 = pd.read_csv('sdemt411.csv', low_memory=True, encoding='latin')"
   ]
  },
  {
   "cell_type": "markdown",
   "metadata": {},
   "source": [
    "# Concatenación del año 2011"
   ]
  },
  {
   "cell_type": "code",
   "execution_count": null,
   "metadata": {
    "collapsed": true
   },
   "outputs": [],
   "source": [
    "array_2011 = [t1_2011, t2_2011, t3_2011, t4_2011]"
   ]
  },
  {
   "cell_type": "code",
   "execution_count": null,
   "metadata": {
    "collapsed": true
   },
   "outputs": [],
   "source": [
    "frame_2011 = pd.concat(array_2011)"
   ]
  },
  {
   "cell_type": "code",
   "execution_count": null,
   "metadata": {
    "collapsed": true
   },
   "outputs": [],
   "source": [
    "frame_2011_c = frame_2011.copy()"
   ]
  },
  {
   "cell_type": "code",
   "execution_count": null,
   "metadata": {
    "collapsed": true
   },
   "outputs": [],
   "source": [
    "frame_2011_c.dtypes"
   ]
  },
  {
   "cell_type": "markdown",
   "metadata": {},
   "source": [
    "# Verificar que no haya valores vacíos "
   ]
  },
  {
   "cell_type": "code",
   "execution_count": null,
   "metadata": {
    "collapsed": true
   },
   "outputs": [],
   "source": [
    "columns_2011 = frame_2011_c.columns.values.tolist()"
   ]
  },
  {
   "cell_type": "code",
   "execution_count": null,
   "metadata": {
    "collapsed": true
   },
   "outputs": [],
   "source": [
    "columns_rejected_2011 = []\n",
    "\n",
    "for i in columns_2011:\n",
    "    \n",
    "    if frame_2011_c[i].dtype == \"int64\":\n",
    "        \n",
    "        print(i)\n",
    "        columns_rejected_2011.append(i)"
   ]
  },
  {
   "cell_type": "markdown",
   "metadata": {},
   "source": [
    "# Se sustituyen los valores vacíos por el valor 99"
   ]
  },
  {
   "cell_type": "code",
   "execution_count": null,
   "metadata": {
    "collapsed": true
   },
   "outputs": [],
   "source": [
    "dic = {' ' : 99, 'NaN' : 99, 'nan' : 99}\n",
    "\n",
    "j = 1\n",
    "\n",
    "for i in columns_rejected_2011:\n",
    "    \n",
    "    print(\"===========================================\")\n",
    "    print( str(j) + \".-\" + i )\n",
    "    print(\"ANTES DE LA LIMPIEZA\")\n",
    "    print( frame_2011_c[i].value_counts())\n",
    "    \n",
    "    frame_2011_c[i] = frame_2011_c[i].astype('str')\n",
    "    frame_2011_c[i].replace(dic, inplace = True)\n",
    "    frame_2011_c[i] = frame_2011_c[i].astype('int64')\n",
    "    \n",
    "    print(\"DESPUES DE LA LIMPIEZA\")\n",
    "    print( frame_2011_c[i].value_counts())\n",
    "    print(frame_2011_c[i].value_counts().sum())"
   ]
  },
  {
   "cell_type": "code",
   "execution_count": null,
   "metadata": {
    "collapsed": true
   },
   "outputs": [],
   "source": [
    "columns_rejected_2011 = []\n",
    "\n",
    "for i in columns_2011:\n",
    "    \n",
    "    if frame_2011_c[i].dtype == \"float\":\n",
    "        \n",
    "        print(i)\n",
    "        columns_rejected_2011.append(i)"
   ]
  },
  {
   "cell_type": "code",
   "execution_count": null,
   "metadata": {
    "collapsed": true
   },
   "outputs": [],
   "source": [
    "dic = {' ' : 99, 'NaN' : 99, 'nan' : 99}\n",
    "\n",
    "j = 1\n",
    "\n",
    "for i in columns_rejected_2011:\n",
    "    \n",
    "    print(\"===========================================\")\n",
    "    print( str(j) + \".-\" + i )\n",
    "    print(\"ANTES DE LA LIMPIEZA\")\n",
    "    print( frame_2011_c[i].value_counts())\n",
    "    \n",
    "    frame_2011_c[i] = frame_2011_c[i].astype('str')\n",
    "    frame_2011_c[i].replace(dic, inplace = True)\n",
    "    frame_2011_c[i] = frame_2011_c[i].astype('float')\n",
    "    \n",
    "    print(\"DESPUES DE LA LIMPIEZA\")\n",
    "    print( frame_2011_c[i].value_counts())\n",
    "    print(frame_2011_c[i].value_counts().sum())"
   ]
  },
  {
   "cell_type": "code",
   "execution_count": null,
   "metadata": {
    "collapsed": true
   },
   "outputs": [],
   "source": [
    "columns_rejected_2011 = []\n",
    "\n",
    "for i in columns_2011:\n",
    "    \n",
    "    if frame_2011_c[i].dtype == \"object\":\n",
    "        \n",
    "        print(i)\n",
    "        columns_rejected_2011.append(i)"
   ]
  },
  {
   "cell_type": "code",
   "execution_count": null,
   "metadata": {
    "collapsed": true
   },
   "outputs": [],
   "source": [
    "dic = {' ' : 99, 'NaN' : 99, 'nan' : 99}\n",
    "\n",
    "j = 1\n",
    "\n",
    "for i in columns_rejected_2011:\n",
    "    \n",
    "    print(\"===========================================\")\n",
    "    print( str(j) + \".-\" + i )\n",
    "    print(\"ANTES DE LA LIMPIEZA\")\n",
    "    print( frame_2011_c[i].value_counts())\n",
    "    \n",
    "    frame_2011_c[i] = frame_2011_c[i].astype('str')\n",
    "    frame_2011_c[i].replace(dic, inplace = True)\n",
    "    frame_2011_c[i] = frame_2011_c[i].astype('object')\n",
    "    \n",
    "    print(\"DESPUES DE LA LIMPIEZA\")\n",
    "    print( frame_2011_c[i].value_counts())\n",
    "    print(frame_2011_c[i].value_counts().sum())"
   ]
  },
  {
   "cell_type": "code",
   "execution_count": null,
   "metadata": {
    "collapsed": true
   },
   "outputs": [],
   "source": [
    "empty_columns_2011 = frame_2011_c.columns[frame_2011_c.isnull().any()].tolist()"
   ]
  },
  {
   "cell_type": "code",
   "execution_count": null,
   "metadata": {
    "collapsed": true
   },
   "outputs": [],
   "source": [
    "len(empty_columns_2011)"
   ]
  },
  {
   "cell_type": "code",
   "execution_count": null,
   "metadata": {
    "collapsed": true
   },
   "outputs": [],
   "source": [
    "frame_2011_c.shape"
   ]
  },
  {
   "cell_type": "code",
   "execution_count": null,
   "metadata": {
    "collapsed": true
   },
   "outputs": [],
   "source": [
    "frame_2011_c = frame_2011_c.drop('con',1)\n",
    "frame_2011_c = frame_2011_c.drop('upm',1)\n",
    "frame_2011_c = frame_2011_c.drop('cs_p20_des',1)\n",
    "frame_2011_c = frame_2011_c.drop('cs_p22_des',1)"
   ]
  },
  {
   "cell_type": "code",
   "execution_count": null,
   "metadata": {
    "collapsed": true
   },
   "outputs": [],
   "source": [
    "frame_2011_c.shape"
   ]
  },
  {
   "cell_type": "code",
   "execution_count": null,
   "metadata": {
    "collapsed": true
   },
   "outputs": [],
   "source": [
    "frame_2011_c['cs_p20_des'].replace({0 : 99, 1230: 99}, inplace=True)\n",
    "\n",
    "frame_2011_c['cs_p20_des'].value_counts()"
   ]
  },
  {
   "cell_type": "code",
   "execution_count": null,
   "metadata": {
    "collapsed": true
   },
   "outputs": [],
   "source": [
    "frame_2011_c['cs_p22_des'].replace({123 : 99, 55555: 99}, inplace=True)\n",
    "\n",
    "frame_2011_c['cs_p22_des'].value_counts()"
   ]
  },
  {
   "cell_type": "code",
   "execution_count": null,
   "metadata": {
    "collapsed": true
   },
   "outputs": [],
   "source": [
    "frame_2011_c['cs_p14_c'].replace({'N120' : 99, 'N121' : 99, 'N122' : 99, 'N123' : 99, 'N126' : 99, 'N128' : 99}, inplace=True)\n",
    "\n",
    "frame_2011_c['cs_p14_c'].value_counts()"
   ]
  },
  {
   "cell_type": "code",
   "execution_count": null,
   "metadata": {
    "collapsed": true
   },
   "outputs": [],
   "source": [
    "columns_rejected_2011 = []\n",
    "\n",
    "for i in columns_2011:\n",
    "    \n",
    "    if t1_2011[i].dtype == \"float\":\n",
    "        \n",
    "        print(i)\n",
    "        columns_rejected_2011.append(i)"
   ]
  },
  {
   "cell_type": "code",
   "execution_count": null,
   "metadata": {
    "collapsed": true
   },
   "outputs": [],
   "source": [
    "for i in columns_rejected_2011:\n",
    "    #if i == \"cs_p22_des\" or i == \"cs_p20_des\" or i == \"cs_p14_c\":\n",
    "        frame_2011_c[i] = frame_2011_c[i].astype('object')"
   ]
  },
  {
   "cell_type": "code",
   "execution_count": null,
   "metadata": {
    "collapsed": true
   },
   "outputs": [],
   "source": [
    "column = \"r_def\"\n",
    "\n",
    "for i in columns_2011:\n",
    "    if i == column:\n",
    "        frame_2011_c[i].replace({15:None}, inplace=True)\n",
    "        frame_2011_c = frame_2011_c.dropna(how='any') "
   ]
  },
  {
   "cell_type": "code",
   "execution_count": null,
   "metadata": {
    "collapsed": true
   },
   "outputs": [],
   "source": [
    "frame_2011_c['r_def'].value_counts()"
   ]
  },
  {
   "cell_type": "code",
   "execution_count": null,
   "metadata": {
    "collapsed": true
   },
   "outputs": [],
   "source": [
    "frame_2011_c['est'].value_counts()"
   ]
  },
  {
   "cell_type": "code",
   "execution_count": null,
   "metadata": {
    "collapsed": true
   },
   "outputs": [],
   "source": [
    "frame_2011_c['cd_a'].value_counts()"
   ]
  },
  {
   "cell_type": "code",
   "execution_count": null,
   "metadata": {
    "collapsed": true
   },
   "outputs": [],
   "source": [
    "frame_2011_c['d_sem'].value_counts()"
   ]
  },
  {
   "cell_type": "code",
   "execution_count": null,
   "metadata": {
    "collapsed": true
   },
   "outputs": [],
   "source": [
    "frame_2011_c['per'].value_counts()"
   ]
  },
  {
   "cell_type": "code",
   "execution_count": null,
   "metadata": {
    "collapsed": true
   },
   "outputs": [],
   "source": [
    "frame_2011_c['nac_dia'].value_counts()"
   ]
  },
  {
   "cell_type": "code",
   "execution_count": null,
   "metadata": {
    "collapsed": true
   },
   "outputs": [],
   "source": [
    "frame_2011_c['nac_mes'].value_counts()"
   ]
  },
  {
   "cell_type": "code",
   "execution_count": null,
   "metadata": {
    "collapsed": true
   },
   "outputs": [],
   "source": [
    "frame_2011_c['nac_anio'].value_counts()"
   ]
  },
  {
   "cell_type": "code",
   "execution_count": null,
   "metadata": {
    "collapsed": true
   },
   "outputs": [],
   "source": [
    "frame_2011_c['cs_p12'].value_counts()"
   ]
  },
  {
   "cell_type": "code",
   "execution_count": null,
   "metadata": {
    "collapsed": true
   },
   "outputs": [],
   "source": [
    "frame_2011_c['cs_p13_1'].value_counts()"
   ]
  },
  {
   "cell_type": "code",
   "execution_count": null,
   "metadata": {
    "collapsed": true
   },
   "outputs": [],
   "source": [
    "frame_2011_c['cs_p13_2'].value_counts()"
   ]
  },
  {
   "cell_type": "code",
   "execution_count": null,
   "metadata": {
    "collapsed": true
   },
   "outputs": [],
   "source": [
    "frame_2011_c['cs_p15'].value_counts()"
   ]
  },
  {
   "cell_type": "code",
   "execution_count": null,
   "metadata": {
    "collapsed": true
   },
   "outputs": [],
   "source": [
    "frame_2011_c['cs_p16'].value_counts()"
   ]
  },
  {
   "cell_type": "code",
   "execution_count": null,
   "metadata": {
    "collapsed": true
   },
   "outputs": [],
   "source": [
    "frame_2011_c['cs_p17'].value_counts()"
   ]
  },
  {
   "cell_type": "code",
   "execution_count": null,
   "metadata": {
    "collapsed": true
   },
   "outputs": [],
   "source": [
    "frame_2011_c['n_hij'].value_counts()"
   ]
  },
  {
   "cell_type": "code",
   "execution_count": null,
   "metadata": {
    "collapsed": true
   },
   "outputs": [],
   "source": [
    "frame_2011_c['e_con'].value_counts()"
   ]
  },
  {
   "cell_type": "code",
   "execution_count": null,
   "metadata": {
    "collapsed": true
   },
   "outputs": [],
   "source": [
    "frame_2011_c['cs_ad_mot'].value_counts()"
   ]
  },
  {
   "cell_type": "code",
   "execution_count": null,
   "metadata": {
    "collapsed": true
   },
   "outputs": [],
   "source": [
    "frame_2011_c['cs_ad_des'].value_counts()"
   ]
  },
  {
   "cell_type": "code",
   "execution_count": null,
   "metadata": {
    "collapsed": true
   },
   "outputs": [],
   "source": [
    "frame_2011_c['cs_nr_mot'].value_counts()"
   ]
  },
  {
   "cell_type": "code",
   "execution_count": null,
   "metadata": {
    "collapsed": true
   },
   "outputs": [],
   "source": [
    "frame_2011_c['cs_nr_ori'].value_counts()"
   ]
  },
  {
   "cell_type": "code",
   "execution_count": null,
   "metadata": {
    "collapsed": true
   },
   "outputs": [],
   "source": [
    "frame_2011_c['anios_esc'].replace({0 : 99}, inplace=True)\n",
    "\n",
    "frame_2011_c['anios_esc'].value_counts()"
   ]
  },
  {
   "cell_type": "code",
   "execution_count": null,
   "metadata": {
    "collapsed": true
   },
   "outputs": [],
   "source": [
    "frame_2011_c['tcco'].replace({0 : 99}, inplace=True)\n",
    "\n",
    "frame_2011_c['tcco'].value_counts()"
   ]
  },
  {
   "cell_type": "code",
   "execution_count": null,
   "metadata": {
    "collapsed": true
   },
   "outputs": [],
   "source": [
    "frame_2011_c['zona'].replace({3 : 99}, inplace=True)\n",
    "\n",
    "frame_2011_c['zona'].value_counts()"
   ]
  },
  {
   "cell_type": "code",
   "execution_count": null,
   "metadata": {
    "collapsed": true
   },
   "outputs": [],
   "source": [
    "frame_2011_c['clase1'].replace({0 : 99}, inplace=True)\n",
    "\n",
    "frame_2011_c['clase1'].value_counts()"
   ]
  },
  {
   "cell_type": "code",
   "execution_count": null,
   "metadata": {
    "collapsed": true
   },
   "outputs": [],
   "source": [
    "frame_2011_c['clase2'].replace({0 : 99}, inplace=True)\n",
    "\n",
    "frame_2011_c['clase2'].value_counts()"
   ]
  },
  {
   "cell_type": "code",
   "execution_count": null,
   "metadata": {
    "collapsed": true
   },
   "outputs": [],
   "source": [
    "frame_2011_c['clase3'].replace({0 : 99}, inplace=True)\n",
    "\n",
    "frame_2011_c['clase3'].value_counts()"
   ]
  },
  {
   "cell_type": "code",
   "execution_count": null,
   "metadata": {
    "collapsed": true
   },
   "outputs": [],
   "source": [
    "frame_2011_c['pos_ocu'].replace({0 : 99}, inplace=True)\n",
    "\n",
    "frame_2011_c['pos_ocu'].value_counts()"
   ]
  },
  {
   "cell_type": "code",
   "execution_count": null,
   "metadata": {
    "collapsed": true
   },
   "outputs": [],
   "source": [
    "frame_2011_c['seg_soc'].replace({0 : 99}, inplace=True)\n",
    "\n",
    "frame_2011_c['seg_soc'].value_counts()"
   ]
  },
  {
   "cell_type": "code",
   "execution_count": null,
   "metadata": {
    "collapsed": true
   },
   "outputs": [],
   "source": [
    "frame_2011_c['rama'].replace({0 : 99}, inplace=True)\n",
    "\n",
    "frame_2011_c['rama'].value_counts()"
   ]
  },
  {
   "cell_type": "code",
   "execution_count": null,
   "metadata": {
    "collapsed": true
   },
   "outputs": [],
   "source": [
    "frame_2011_c['c_ocu11c'].replace({0 : 99}, inplace=True)\n",
    "\n",
    "frame_2011_c['c_ocu11c'].value_counts()"
   ]
  },
  {
   "cell_type": "code",
   "execution_count": null,
   "metadata": {
    "collapsed": true
   },
   "outputs": [],
   "source": [
    "frame_2011_c['ing7c'].replace({0 : 99}, inplace=True)\n",
    "\n",
    "frame_2011_c['ing7c'].value_counts()"
   ]
  },
  {
   "cell_type": "code",
   "execution_count": null,
   "metadata": {
    "collapsed": true
   },
   "outputs": [],
   "source": [
    "frame_2011_c['dur9c'].replace({0 : 99}, inplace=True)\n",
    "\n",
    "frame_2011_c['dur9c'].value_counts()"
   ]
  },
  {
   "cell_type": "code",
   "execution_count": null,
   "metadata": {
    "collapsed": true
   },
   "outputs": [],
   "source": [
    "frame_2011_c['emple7c'].replace({0 : 99}, inplace=True)\n",
    "\n",
    "frame_2011_c['emple7c'].value_counts()"
   ]
  },
  {
   "cell_type": "code",
   "execution_count": null,
   "metadata": {
    "collapsed": true
   },
   "outputs": [],
   "source": [
    "frame_2011_c['medica5c'].replace({0 : 99}, inplace=True)\n",
    "\n",
    "frame_2011_c['medica5c'].value_counts()"
   ]
  },
  {
   "cell_type": "code",
   "execution_count": null,
   "metadata": {
    "collapsed": true
   },
   "outputs": [],
   "source": [
    "frame_2011_c['buscar5c'].replace({0 : 99}, inplace=True)\n",
    "\n",
    "frame_2011_c['buscar5c'].value_counts()"
   ]
  },
  {
   "cell_type": "code",
   "execution_count": null,
   "metadata": {
    "collapsed": true
   },
   "outputs": [],
   "source": [
    "frame_2011_c['rama_est1'].replace({0 : 99}, inplace=True)\n",
    "\n",
    "frame_2011_c['rama_est1'].value_counts()"
   ]
  },
  {
   "cell_type": "code",
   "execution_count": null,
   "metadata": {
    "collapsed": true
   },
   "outputs": [],
   "source": [
    "frame_2011_c['rama_est2'].replace({0 : 99}, inplace=True)\n",
    "\n",
    "frame_2011_c['rama_est2'].value_counts()"
   ]
  },
  {
   "cell_type": "code",
   "execution_count": null,
   "metadata": {
    "collapsed": true
   },
   "outputs": [],
   "source": [
    "frame_2011_c['dur_est'].replace({0 : 99}, inplace=True)\n",
    "\n",
    "frame_2011_c['dur_est'].value_counts()"
   ]
  },
  {
   "cell_type": "code",
   "execution_count": null,
   "metadata": {
    "collapsed": true
   },
   "outputs": [],
   "source": [
    "frame_2011_c['ambito1'].replace({0 : 99}, inplace=True)\n",
    "\n",
    "frame_2011_c['ambito1'].value_counts()"
   ]
  },
  {
   "cell_type": "code",
   "execution_count": null,
   "metadata": {
    "collapsed": true
   },
   "outputs": [],
   "source": [
    "frame_2011_c['ambito2'].replace({0 : 99}, inplace=True)\n",
    "\n",
    "frame_2011_c['ambito2'].value_counts()"
   ]
  },
  {
   "cell_type": "code",
   "execution_count": null,
   "metadata": {
    "collapsed": true
   },
   "outputs": [],
   "source": [
    "frame_2011_c['tue1'].replace({0 : 99}, inplace=True)\n",
    "\n",
    "frame_2011_c['tue1'].value_counts()"
   ]
  },
  {
   "cell_type": "code",
   "execution_count": null,
   "metadata": {
    "collapsed": true
   },
   "outputs": [],
   "source": [
    "frame_2011_c['tue2'].replace({0 : 99}, inplace=True)\n",
    "\n",
    "frame_2011_c['tue2'].value_counts()"
   ]
  },
  {
   "cell_type": "code",
   "execution_count": null,
   "metadata": {
    "collapsed": true
   },
   "outputs": [],
   "source": [
    "frame_2011_c['tue3'].replace({0 : 99}, inplace=True)\n",
    "\n",
    "frame_2011_c['tue3'].value_counts()"
   ]
  },
  {
   "cell_type": "code",
   "execution_count": null,
   "metadata": {
    "collapsed": true
   },
   "outputs": [],
   "source": [
    "frame_2011_c['busqueda'].replace({0 : 99}, inplace=True)\n",
    "\n",
    "frame_2011_c['busqueda'].value_counts()"
   ]
  },
  {
   "cell_type": "code",
   "execution_count": null,
   "metadata": {
    "collapsed": true
   },
   "outputs": [],
   "source": [
    "frame_2011_c['d_ant_lab'].replace({0 : 99}, inplace=True)\n",
    "\n",
    "frame_2011_c['d_ant_lab'].value_counts()"
   ]
  },
  {
   "cell_type": "code",
   "execution_count": null,
   "metadata": {
    "collapsed": true
   },
   "outputs": [],
   "source": [
    "frame_2011_c['d_cexp_est'].replace({0 : 99}, inplace=True)\n",
    "\n",
    "frame_2011_c['d_cexp_est'].value_counts()"
   ]
  },
  {
   "cell_type": "code",
   "execution_count": null,
   "metadata": {
    "collapsed": true
   },
   "outputs": [],
   "source": [
    "frame_2011_c['dur_des'].replace({0 : 99}, inplace=True)\n",
    "\n",
    "frame_2011_c['dur_des'].value_counts()"
   ]
  },
  {
   "cell_type": "code",
   "execution_count": null,
   "metadata": {
    "collapsed": true
   },
   "outputs": [],
   "source": [
    "frame_2011_c['s_clasifi'].replace({0 : 99}, inplace=True)\n",
    "\n",
    "frame_2011_c['s_clasifi'].value_counts()"
   ]
  },
  {
   "cell_type": "code",
   "execution_count": null,
   "metadata": {
    "collapsed": true
   },
   "outputs": [],
   "source": [
    "frame_2011_c['remune2c'].replace({0 : 99}, inplace=True)\n",
    "\n",
    "frame_2011_c['remune2c'].value_counts()"
   ]
  },
  {
   "cell_type": "code",
   "execution_count": null,
   "metadata": {
    "collapsed": true
   },
   "outputs": [],
   "source": [
    "frame_2011_c['pre_asa'].replace({0 : 99}, inplace=True)\n",
    "\n",
    "frame_2011_c['pre_asa'].value_counts()"
   ]
  },
  {
   "cell_type": "code",
   "execution_count": null,
   "metadata": {
    "collapsed": true
   },
   "outputs": [],
   "source": [
    "frame_2011_c['tipo_con'].replace({0 : 99}, inplace=True)\n",
    "\n",
    "frame_2011_c['tipo_con'].value_counts()"
   ]
  },
  {
   "cell_type": "code",
   "execution_count": null,
   "metadata": {
    "collapsed": true
   },
   "outputs": [],
   "source": [
    "frame_2011_c['dispo'].replace({0 : 99}, inplace=True)\n",
    "\n",
    "frame_2011_c['dispo'].value_counts()"
   ]
  },
  {
   "cell_type": "code",
   "execution_count": null,
   "metadata": {
    "collapsed": true
   },
   "outputs": [],
   "source": [
    "frame_2011_c['nodispo'].replace({0 : 99}, inplace=True)\n",
    "\n",
    "frame_2011_c['nodispo'].value_counts()"
   ]
  },
  {
   "cell_type": "code",
   "execution_count": null,
   "metadata": {
    "collapsed": true
   },
   "outputs": [],
   "source": [
    "frame_2011_c['c_inac5c'].replace({0 : 99}, inplace=True)\n",
    "\n",
    "frame_2011_c['c_ina5c'].value_counts()"
   ]
  },
  {
   "cell_type": "code",
   "execution_count": null,
   "metadata": {
    "collapsed": true
   },
   "outputs": [],
   "source": [
    "frame_2011_c['pnea_est'].replace({0 : 99}, inplace=True)\n",
    "\n",
    "frame_2011_c['pnea_est'].value_counts()"
   ]
  },
  {
   "cell_type": "code",
   "execution_count": null,
   "metadata": {
    "collapsed": true
   },
   "outputs": [],
   "source": [
    "frame_2011_c['niv_ins'].replace({0 : 99}, inplace=True)\n",
    "\n",
    "frame_2011_c['niv_ins'].value_counts()"
   ]
  },
  {
   "cell_type": "code",
   "execution_count": null,
   "metadata": {
    "collapsed": true
   },
   "outputs": [],
   "source": [
    "frame_2011_c['eda5c'].replace({0 : 99}, inplace=True)\n",
    "\n",
    "frame_2011_c['eda5c'].value_counts()"
   ]
  },
  {
   "cell_type": "code",
   "execution_count": null,
   "metadata": {
    "collapsed": true
   },
   "outputs": [],
   "source": [
    "frame_2011_c['eda7c'].replace({0 : 99}, inplace=True)\n",
    "\n",
    "frame_2011_c['eda7c'].value_counts()"
   ]
  },
  {
   "cell_type": "code",
   "execution_count": null,
   "metadata": {
    "collapsed": true
   },
   "outputs": [],
   "source": [
    "frame_2011_c['eda12c'].replace({0 : 99}, inplace=True)\n",
    "\n",
    "frame_2011_c['eda12c'].value_counts()"
   ]
  },
  {
   "cell_type": "code",
   "execution_count": null,
   "metadata": {
    "collapsed": true
   },
   "outputs": [],
   "source": [
    "frame_2011_c['eda19c'].replace({0 : 99}, inplace=True)\n",
    "\n",
    "frame_2011_c['eda19c'].value_counts()"
   ]
  },
  {
   "cell_type": "code",
   "execution_count": null,
   "metadata": {
    "collapsed": true
   },
   "outputs": [],
   "source": [
    "frame_2011_c['hij5c'].replace({0 : 99}, inplace=True)\n",
    "\n",
    "frame_2011_c['hij5c'].value_counts()"
   ]
  },
  {
   "cell_type": "code",
   "execution_count": null,
   "metadata": {
    "collapsed": true
   },
   "outputs": [],
   "source": [
    "frame_2011_c['domesticos'].replace({0 : 99}, inplace=True)\n",
    "\n",
    "frame_2011_c['domesticos'].value_counts()"
   ]
  },
  {
   "cell_type": "code",
   "execution_count": null,
   "metadata": {
    "collapsed": true
   },
   "outputs": [],
   "source": [
    "frame_2011_c['hrsocup'].replace({0 : 99}, inplace=True)\n",
    "\n",
    "frame_2011_c['hrsocup'].value_counts()"
   ]
  },
  {
   "cell_type": "code",
   "execution_count": null,
   "metadata": {
    "collapsed": true
   },
   "outputs": [],
   "source": [
    "frame_2011_c['ingocup'].replace({0 : 99}, inplace=True)\n",
    "\n",
    "frame_2011_c['ingocup'].value_counts()"
   ]
  },
  {
   "cell_type": "code",
   "execution_count": null,
   "metadata": {
    "collapsed": true
   },
   "outputs": [],
   "source": [
    "frame_2011_c['ing_x_hrs'].replace({0 : 99}, inplace=True)\n",
    "\n",
    "frame_2011_c['ing_x_hrs'].value_counts()"
   ]
  },
  {
   "cell_type": "code",
   "execution_count": null,
   "metadata": {
    "collapsed": true
   },
   "outputs": [],
   "source": [
    "frame_2011_c['cp_anoc'].replace({0 : 99}, inplace=True)\n",
    "\n",
    "frame_2011_c['cp_anoc'].value_counts()"
   ]
  },
  {
   "cell_type": "code",
   "execution_count": null,
   "metadata": {
    "collapsed": true
   },
   "outputs": [],
   "source": [
    "frame_2011_c['imssissste'].replace({0 : 99}, inplace=True)\n",
    "\n",
    "frame_2011_c['imssissste'].value_counts()"
   ]
  },
  {
   "cell_type": "code",
   "execution_count": null,
   "metadata": {
    "collapsed": true
   },
   "outputs": [],
   "source": [
    "frame_2011_c['ma48me1sm'].replace({0 : 99}, inplace=True)\n",
    "\n",
    "frame_2011_c['ma48me1sm'].value_counts()"
   ]
  },
  {
   "cell_type": "code",
   "execution_count": null,
   "metadata": {
    "collapsed": true
   },
   "outputs": [],
   "source": [
    "frame_2011_c['p14apoyos'].replace({0 : 99}, inplace=True)\n",
    "\n",
    "frame_2011_c['p14apoyos'].value_counts()"
   ]
  },
  {
   "cell_type": "code",
   "execution_count": null,
   "metadata": {
    "collapsed": true
   },
   "outputs": [],
   "source": [
    "frame_2011_c['scian'].replace({0 : 99}, inplace=True)\n",
    "\n",
    "frame_2011_c['scian'].value_counts()"
   ]
  },
  {
   "cell_type": "code",
   "execution_count": null,
   "metadata": {
    "collapsed": true
   },
   "outputs": [],
   "source": [
    "frame_2011_c['t_tra'].replace({0 : 99}, inplace=True)\n",
    "\n",
    "frame_2011_c['t_tra'].value_counts()"
   ]
  },
  {
   "cell_type": "code",
   "execution_count": null,
   "metadata": {
    "collapsed": true
   },
   "outputs": [],
   "source": [
    "frame_2011_c['emp_ppal'].replace({0 : 99}, inplace=True)\n",
    "\n",
    "frame_2011_c['emp_ppal'].value_counts()"
   ]
  },
  {
   "cell_type": "code",
   "execution_count": null,
   "metadata": {
    "collapsed": true
   },
   "outputs": [],
   "source": [
    "frame_2011_c['tue_ppal'].replace({0 : 99}, inplace=True)\n",
    "\n",
    "frame_2011_c['tue_ppal'].value_counts()"
   ]
  },
  {
   "cell_type": "code",
   "execution_count": null,
   "metadata": {
    "collapsed": true
   },
   "outputs": [],
   "source": [
    "frame_2011_c['trans_ppal'].replace({0 : 99}, inplace=True)\n",
    "\n",
    "frame_2011_c['trans_ppal'].value_counts()"
   ]
  },
  {
   "cell_type": "code",
   "execution_count": null,
   "metadata": {
    "collapsed": true
   },
   "outputs": [],
   "source": [
    "frame_2011_c['mh_fil2'].replace({0 : 99}, inplace=True)\n",
    "\n",
    "frame_2011_c['mh_fil2'].value_counts()"
   ]
  },
  {
   "cell_type": "code",
   "execution_count": null,
   "metadata": {
    "collapsed": true
   },
   "outputs": [],
   "source": [
    "frame_2011_c['mh_col'].replace({0 : 99}, inplace=True)\n",
    "\n",
    "frame_2011_c['mh_col'].value_counts()"
   ]
  },
  {
   "cell_type": "code",
   "execution_count": null,
   "metadata": {
    "collapsed": true
   },
   "outputs": [],
   "source": [
    "frame_2011_c['sec_ins'].replace({0 : 99}, inplace=True)\n",
    "\n",
    "frame_2011_c['sec_ins'].value_counts()"
   ]
  },
  {
   "cell_type": "code",
   "execution_count": null,
   "metadata": {
    "collapsed": true
   },
   "outputs": [],
   "source": [
    "for i in frame_2011_c:\n",
    "    if i !=\"cs_p22_des\" or i != \"cs_p20_des\" or i != \"cs_p14_c\" or i != \"ing_x_hrs\":\n",
    "        frame_2011_c[i] = frame_2011_c[i].astype('str')\n",
    "        frame_2011_c[i] = frame_2011_c[i].astype('float')\n",
    "        frame_2011_c[i] = frame_2011_c[i].astype('int64')"
   ]
  },
  {
   "cell_type": "code",
   "execution_count": null,
   "metadata": {
    "collapsed": true
   },
   "outputs": [],
   "source": [
    "frame_2011_c.dtypes"
   ]
  },
  {
   "cell_type": "code",
   "execution_count": null,
   "metadata": {
    "collapsed": true
   },
   "outputs": [],
   "source": [
    "frame_2011_c.to_csv(\"C:/Users/Virginia Martinez/2011_finished.csv\")"
   ]
  }
 ],
 "metadata": {
  "anaconda-cloud": {},
  "kernelspec": {
   "display_name": "Python [default]",
   "language": "python",
   "name": "python3"
  },
  "language_info": {
   "codemirror_mode": {
    "name": "ipython",
    "version": 3
   },
   "file_extension": ".py",
   "mimetype": "text/x-python",
   "name": "python",
   "nbconvert_exporter": "python",
   "pygments_lexer": "ipython3",
   "version": "3.5.2"
  }
 },
 "nbformat": 4,
 "nbformat_minor": 2
}
